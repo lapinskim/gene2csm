{
 "cells": [
  {
   "cell_type": "markdown",
   "metadata": {},
   "source": [
    "# gene2csm.py"
   ]
  },
  {
   "cell_type": "markdown",
   "metadata": {},
   "source": [
    "## Example usage"
   ]
  },
  {
   "cell_type": "markdown",
   "metadata": {},
   "source": [
    "Use magic for inline plotting."
   ]
  },
  {
   "cell_type": "code",
   "execution_count": 1,
   "metadata": {
    "collapsed": true,
    "scrolled": false
   },
   "outputs": [],
   "source": [
    "%matplotlib inline"
   ]
  },
  {
   "cell_type": "markdown",
   "metadata": {},
   "source": [
    "Do the imports."
   ]
  },
  {
   "cell_type": "code",
   "execution_count": 2,
   "metadata": {
    "collapsed": true,
    "scrolled": true
   },
   "outputs": [],
   "source": [
    "import gffutils\n",
    "import os\n",
    "import matplotlib.pyplot as plt\n",
    "from Bio import SeqIO\n",
    "import pandas as pd\n",
    "\n",
    "# import gene2csm modules\n",
    "from gene2csm import *\n",
    "from gene2csm_out import prepare_output"
   ]
  },
  {
   "cell_type": "markdown",
   "metadata": {},
   "source": [
    "---"
   ]
  },
  {
   "cell_type": "markdown",
   "metadata": {},
   "source": [
    "### Create the required database objects"
   ]
  },
  {
   "cell_type": "markdown",
   "metadata": {},
   "source": [
    "Create or load the GFF annotation database"
   ]
  },
  {
   "cell_type": "code",
   "execution_count": 3,
   "metadata": {
    "collapsed": true,
    "scrolled": false
   },
   "outputs": [],
   "source": [
    "db_file = 'danRer.GRCz10.90.db'\n",
    "if not os.path.exists(db_file):\n",
    "    db = gffutils.create_db(\"Danio_rerio.GRCz10.90.gtf\",\n",
    "                            dbfn=\"danRer.GRCz10.90.db\",\n",
    "                            id_spec={'gene': 'gene_id', 'transcript': \"transcript_id\"},\n",
    "                            disable_infer_genes=True,\n",
    "                            disable_infer_transcripts=True,\n",
    "                            force=False)\n",
    "else:\n",
    "    db = gffutils.FeatureDB(db_file)"
   ]
  },
  {
   "cell_type": "markdown",
   "metadata": {},
   "source": [
    "Create an indexed fasta database for faster access with SeqIO."
   ]
  },
  {
   "cell_type": "code",
   "execution_count": 4,
   "metadata": {
    "collapsed": true
   },
   "outputs": [],
   "source": [
    "fa_db = SeqIO.index_db('danRer.GRCz10.dna_sm.toplevel.idx', 'Danio_rerio.GRCz10.dna_sm.toplevel.fa', 'fasta')"
   ]
  },
  {
   "cell_type": "markdown",
   "metadata": {},
   "source": [
    "Load the variation information."
   ]
  },
  {
   "cell_type": "code",
   "execution_count": 5,
   "metadata": {
    "collapsed": true
   },
   "outputs": [],
   "source": [
    "gvf_fn = ('danio_rerio.gvf.gz')"
   ]
  },
  {
   "cell_type": "markdown",
   "metadata": {},
   "source": [
    "---"
   ]
  },
  {
   "cell_type": "markdown",
   "metadata": {},
   "source": [
    "### Basic example of working with provided functions"
   ]
  },
  {
   "cell_type": "markdown",
   "metadata": {},
   "source": [
    "Enter the Ensembl Gene ID"
   ]
  },
  {
   "cell_type": "code",
   "execution_count": 6,
   "metadata": {
    "collapsed": true,
    "scrolled": false
   },
   "outputs": [],
   "source": [
    "gene = db['ENSDARG00000008454']"
   ]
  },
  {
   "cell_type": "markdown",
   "metadata": {},
   "source": [
    "Create genomic sequence coverage by **CDS** (without STOP codon)."
   ]
  },
  {
   "cell_type": "code",
   "execution_count": 7,
   "metadata": {
    "scrolled": true
   },
   "outputs": [
    {
     "name": "stdout",
     "output_type": "stream",
     "text": [
      "ENSDARG00000008454 loci length: 10529.\n",
      "Maximal genomic sequence coverage by CDS: 3.\n"
     ]
    }
   ],
   "source": [
    "gene_cov = get_cov(db, gene)"
   ]
  },
  {
   "cell_type": "markdown",
   "metadata": {},
   "source": [
    "For plotting change start coordinates to local and reverse the coverage if needed"
   ]
  },
  {
   "cell_type": "code",
   "execution_count": 8,
   "metadata": {
    "collapsed": true,
    "scrolled": false
   },
   "outputs": [],
   "source": [
    "if gene.strand == '+':\n",
    "    plot_cov = gene_cov\n",
    "else:\n",
    "    plot_cov = gene_cov[::-1]"
   ]
  },
  {
   "cell_type": "markdown",
   "metadata": {},
   "source": [
    "Plotting"
   ]
  },
  {
   "cell_type": "code",
   "execution_count": 9,
   "metadata": {
    "scrolled": false
   },
   "outputs": [
    {
     "data": {
      "image/png": "[encoded data removed]",
      "text/plain": [
       "<matplotlib.figure.Figure at 0x7fa6cf453898>"
      ]
     },
     "metadata": {},
     "output_type": "display_data"
    }
   ],
   "source": [
    "plt.plot(plot_cov, 'blue')\n",
    "plt.show()"
   ]
  },
  {
   "cell_type": "markdown",
   "metadata": {},
   "source": [
    "Get the genomic intervals for sequence retrieval. Subtract the variable sequences coming from dbSNP."
   ]
  },
  {
   "cell_type": "code",
   "execution_count": 10,
   "metadata": {
    "scrolled": true
   },
   "outputs": [
    {
     "name": "stdout",
     "output_type": "stream",
     "text": [
      "17 CDS coverage intervals (coverage, count): [(2, 9), (3, 5), (1, 3)].\n",
      "Subtracting variation from dbSNP_150.\n"
     ]
    }
   ],
   "source": [
    "gen_int = sub_var(get_int(gene,gene_cov), gvf_fn)"
   ]
  },
  {
   "cell_type": "markdown",
   "metadata": {},
   "source": [
    "---"
   ]
  },
  {
   "cell_type": "markdown",
   "metadata": {},
   "source": [
    "### Automated design for multiple transcript targets"
   ]
  },
  {
   "cell_type": "markdown",
   "metadata": {},
   "source": [
    "Define search parameters."
   ]
  },
  {
   "cell_type": "code",
   "execution_count": 11,
   "metadata": {
    "collapsed": true,
    "scrolled": false
   },
   "outputs": [],
   "source": [
    "# length of the designed oligonucleotide\n",
    "crRNA_len = 36\n",
    "# limits of the %GC content\n",
    "GC_limit = (40,60)\n",
    "# number of processors to use\n",
    "n_threads = 7"
   ]
  },
  {
   "cell_type": "markdown",
   "metadata": {},
   "source": [
    "Provide the list of Ensembl Gene IDs to be used as design targets."
   ]
  },
  {
   "cell_type": "code",
   "execution_count": 12,
   "metadata": {
    "collapsed": true
   },
   "outputs": [],
   "source": [
    "targets = ['ENSDARG00000014373',\n",
    "           'ENSDARG00000035095']"
   ]
  },
  {
   "cell_type": "markdown",
   "metadata": {},
   "source": [
    "Use the main function to conduct all the calculations. Raw output will also be stored in the CSV file. "
   ]
  },
  {
   "cell_type": "code",
   "execution_count": 13,
   "metadata": {
    "scrolled": false
   },
   "outputs": [
    {
     "name": "stdout",
     "output_type": "stream",
     "text": [
      "\n",
      "---\n",
      "\n",
      "ddx4\n",
      "ENSDARG00000014373 loci length: 21926.\n",
      "Maximal genomic sequence coverage by CDS: 7.\n"
     ]
    },
    {
     "data": {
      "image/png": "[encoded data removed]",
      "text/plain": [
       "<matplotlib.figure.Figure at 0x7fa6cf4039b0>"
      ]
     },
     "metadata": {},
     "output_type": "display_data"
    },
    {
     "name": "stdout",
     "output_type": "stream",
     "text": [
      "30 CDS coverage intervals (coverage, count): [(7, 23), (1, 2), (2, 1), (6, 1), (3, 1), (4, 1), (5, 1)].\n",
      "Subtracting variation from dbSNP_150.\n",
      "Processing 1638 nucleotides in 23 segments.\n",
      "Valid sequences: 612 / 833 (GC_low = 156, GC_high = 51, sm = 14)\n",
      "No transcript Ensemble ID specified.\n",
      "Picking the longest, preferably HAVANA annotated transcript for free energy calculations.\n",
      "Target: ENSDART00000149334, source: havana, length: 2856\n",
      "612/612 (100.0%)\n",
      "Writing file ENSDARG00000014373.result.csv.\n",
      "\n",
      "Done.\n",
      "\n",
      "---\n",
      "\n",
      "tdgf1\n",
      "ENSDARG00000035095 loci length: 6845.\n",
      "Maximal genomic sequence coverage by CDS: 4.\n"
     ]
    },
    {
     "data": {
      "image/png": "[encoded data removed]",
      "text/plain": [
       "<matplotlib.figure.Figure at 0x7fa6cf390e48>"
      ]
     },
     "metadata": {},
     "output_type": "display_data"
    },
    {
     "name": "stdout",
     "output_type": "stream",
     "text": [
      "9 CDS coverage intervals (coverage, count): [(4, 6), (1, 3)].\n",
      "Subtracting variation from dbSNP_150.\n",
      "Processing 503 nucleotides in 6 segments.\n",
      "Valid sequences: 183 / 293 (GC_low = 44, GC_high = 66, sm = 0)\n",
      "No transcript Ensemble ID specified.\n",
      "Picking the longest, preferably HAVANA annotated transcript for free energy calculations.\n",
      "Target: ENSDART00000122446, source: ensembl, length: 2158\n",
      "183/183 (100.0%)\n",
      "Writing file ENSDARG00000035095.result.csv.\n",
      "\n",
      "Done.\n"
     ]
    }
   ],
   "source": [
    "result = gene2csm(db, fa_db, gvf_fn, targets, crRNA_len, GC_limit, n_threads, coverage_limit='max')"
   ]
  },
  {
   "cell_type": "markdown",
   "metadata": {},
   "source": [
    "Score the output, format the tables and write them to the XLSX files (if `write=True`). You can limit the number of outputted sequences to for example 50 by passing the `n_store=50` parameter."
   ]
  },
  {
   "cell_type": "code",
   "execution_count": 14,
   "metadata": {
    "collapsed": true,
    "scrolled": true
   },
   "outputs": [],
   "source": [
    "formatted = prepare_output(result, n_store=0, write=False)"
   ]
  },
  {
   "cell_type": "markdown",
   "metadata": {},
   "source": [
    "Analyze the output for each target. For convenience the result dictionary contains the Gene Names as keys."
   ]
  },
  {
   "cell_type": "code",
   "execution_count": 15,
   "metadata": {
    "scrolled": true
   },
   "outputs": [
    {
     "data": {
      "text/html": [
       "<div>\n",
       "<style scoped>\n",
       "    .dataframe tbody tr th:only-of-type {\n",
       "        vertical-align: middle;\n",
       "    }\n",
       "\n",
       "    .dataframe tbody tr th {\n",
       "        vertical-align: top;\n",
       "    }\n",
       "\n",
       "    .dataframe thead th {\n",
       "        text-align: right;\n",
       "    }\n",
       "</style>\n",
       "<table border=\"1\" class=\"dataframe\">\n",
       "  <thead>\n",
       "    <tr style=\"text-align: right;\">\n",
       "      <th></th>\n",
       "      <th>seq</th>\n",
       "      <th>GC</th>\n",
       "      <th>ent</th>\n",
       "      <th>dG_AA</th>\n",
       "      <th>G_A</th>\n",
       "      <th>bitscore</th>\n",
       "      <th>nident</th>\n",
       "      <th>chr</th>\n",
       "      <th>start</th>\n",
       "      <th>end</th>\n",
       "      <th>score</th>\n",
       "    </tr>\n",
       "  </thead>\n",
       "  <tbody>\n",
       "    <tr>\n",
       "      <th>190</th>\n",
       "      <td>UCUCACUGAACUUGCUGGCUGCCACACCAUCAGUCA</td>\n",
       "      <td>52.78</td>\n",
       "      <td>1.709314166666666666666666667</td>\n",
       "      <td>-12.28</td>\n",
       "      <td>-6.405086</td>\n",
       "      <td>30.1</td>\n",
       "      <td>16</td>\n",
       "      <td>10</td>\n",
       "      <td>6939268</td>\n",
       "      <td>6939304</td>\n",
       "      <td>103.4285714285714285714285714</td>\n",
       "    </tr>\n",
       "    <tr>\n",
       "      <th>189</th>\n",
       "      <td>CUCACUGAACUUGCUGGCUGCCACACCAUCAGUCAU</td>\n",
       "      <td>52.78</td>\n",
       "      <td>1.706084166666666666666666667</td>\n",
       "      <td>-12.19</td>\n",
       "      <td>-6.453289</td>\n",
       "      <td>30.1</td>\n",
       "      <td>16</td>\n",
       "      <td>10</td>\n",
       "      <td>6939267</td>\n",
       "      <td>6939303</td>\n",
       "      <td>105.4285714285714285714285714</td>\n",
       "    </tr>\n",
       "    <tr>\n",
       "      <th>188</th>\n",
       "      <td>UCACUGAACUUGCUGGCUGCCACACCAUCAGUCAUA</td>\n",
       "      <td>50.00</td>\n",
       "      <td>1.685921666666666666666666667</td>\n",
       "      <td>-12.19</td>\n",
       "      <td>-6.455337</td>\n",
       "      <td>30.1</td>\n",
       "      <td>16</td>\n",
       "      <td>10</td>\n",
       "      <td>6939266</td>\n",
       "      <td>6939302</td>\n",
       "      <td>110.4285714285714285714285714</td>\n",
       "    </tr>\n",
       "    <tr>\n",
       "      <th>187</th>\n",
       "      <td>CACUGAACUUGCUGGCUGCCACACCAUCAGUCAUAA</td>\n",
       "      <td>50.00</td>\n",
       "      <td>1.679088611111111111111111111</td>\n",
       "      <td>-12.17</td>\n",
       "      <td>-6.463978</td>\n",
       "      <td>30.1</td>\n",
       "      <td>16</td>\n",
       "      <td>10</td>\n",
       "      <td>6939265</td>\n",
       "      <td>6939301</td>\n",
       "      <td>115.4285714285714285714285714</td>\n",
       "    </tr>\n",
       "    <tr>\n",
       "      <th>211</th>\n",
       "      <td>UUAUGGCCUCAGGCUCCUGUAUCUCACUGAACUUGC</td>\n",
       "      <td>50.00</td>\n",
       "      <td>1.639284805555555555555555556</td>\n",
       "      <td>-8.29</td>\n",
       "      <td>-4.165267</td>\n",
       "      <td>30.1</td>\n",
       "      <td>16</td>\n",
       "      <td>10</td>\n",
       "      <td>6939289</td>\n",
       "      <td>6939325</td>\n",
       "      <td>121.4285714285714285714285714</td>\n",
       "    </tr>\n",
       "  </tbody>\n",
       "</table>\n",
       "</div>"
      ],
      "text/plain": [
       "                                      seq     GC  \\\n",
       "190  UCUCACUGAACUUGCUGGCUGCCACACCAUCAGUCA  52.78   \n",
       "189  CUCACUGAACUUGCUGGCUGCCACACCAUCAGUCAU  52.78   \n",
       "188  UCACUGAACUUGCUGGCUGCCACACCAUCAGUCAUA  50.00   \n",
       "187  CACUGAACUUGCUGGCUGCCACACCAUCAGUCAUAA  50.00   \n",
       "211  UUAUGGCCUCAGGCUCCUGUAUCUCACUGAACUUGC  50.00   \n",
       "\n",
       "                               ent   dG_AA        G_A  bitscore  nident chr  \\\n",
       "190  1.709314166666666666666666667  -12.28  -6.405086      30.1      16  10   \n",
       "189  1.706084166666666666666666667  -12.19  -6.453289      30.1      16  10   \n",
       "188  1.685921666666666666666666667  -12.19  -6.455337      30.1      16  10   \n",
       "187  1.679088611111111111111111111  -12.17  -6.463978      30.1      16  10   \n",
       "211  1.639284805555555555555555556   -8.29  -4.165267      30.1      16  10   \n",
       "\n",
       "       start      end                          score  \n",
       "190  6939268  6939304  103.4285714285714285714285714  \n",
       "189  6939267  6939303  105.4285714285714285714285714  \n",
       "188  6939266  6939302  110.4285714285714285714285714  \n",
       "187  6939265  6939301  115.4285714285714285714285714  \n",
       "211  6939289  6939325  121.4285714285714285714285714  "
      ]
     },
     "execution_count": 15,
     "metadata": {},
     "output_type": "execute_result"
    }
   ],
   "source": [
    "formatted['ddx4'].head()"
   ]
  },
  {
   "cell_type": "markdown",
   "metadata": {
    "collapsed": true
   },
   "source": [
    "---"
   ]
  },
  {
   "cell_type": "markdown",
   "metadata": {},
   "source": [
    "### Working with user provided input"
   ]
  },
  {
   "cell_type": "markdown",
   "metadata": {},
   "source": [
    "#### Sequence not part of an endogenous transcript"
   ]
  },
  {
   "cell_type": "markdown",
   "metadata": {},
   "source": [
    "Input sequence should be provided in PLAIN or FASTA format. \n",
    "\n",
    "You can use lowercase letters to mask unwanted sequence regions."
   ]
  },
  {
   "cell_type": "code",
   "execution_count": 16,
   "metadata": {
    "collapsed": true
   },
   "outputs": [],
   "source": [
    "egfp_seq = 'aggatccaccggtcgccaccatggtgagcaagggcgaggagctgttcaccggggtggtgcccatcctggtcgagctggacggcgacgtaaacggccacaagttcagcgtgtccggcgagggcgagggcgatgccacctacggcaagctgaccctgaagttcatctgcaccaccggcaagctgcccgtgccctggcccaccctcgtgaccaccctgacctacggcgtgcagtgcttcagccgctaccccgaccacatgaagcagcacgacttcttcaagtccgccatgcccgaaggctacgtccaggagcgcaccatcttcttcaaggacgacggcaactacaagacccgcgccgaggtgaagttcgagggcgacaccctggtgaaccgcatcgagctgaagggcatcgacttcaaggaggacggcaacatcctggggcacaagctggagtacaactacaacagccacaacgtctatatcatggccgacaagcagaagaacggcatcaaggtgaacttcaagatccgccacaacatcgaggacggcagcgtgcagctcgccgaccactaccagcagaacacccccatcggcgacggccccgtgctgctgcccgacaaccactacctgagcacccagtccgccctgagcaaagaccccaacgagaagcgcgatcacatggtcctgctggagttcgtgaccgccgccgggatcactctcggcatggacgagctgtacaagtaaagcggccgc'"
   ]
  },
  {
   "cell_type": "markdown",
   "metadata": {},
   "source": [
    "Use the `estimate_energy_input()` function for crRNA design, specifying the lenght of the designed oligos and the %GC content limits.\n",
    "\n",
    "The user provided sequence will be used for free energy calculations.\n",
    "\n",
    "Every designed oligonucleotide will be subject to a BLAST database search against all of the species RNA sequences.\n",
    "\n",
    "In the example below we convert the whole sequence to uppercase as the argument for the function call:"
   ]
  },
  {
   "cell_type": "code",
   "execution_count": 17,
   "metadata": {},
   "outputs": [
    {
     "name": "stdout",
     "output_type": "stream",
     "text": [
      "Valid sequences: 714 / 714 (GC_low = 0, GC_high = 0, sm = 0)\n",
      "Using the provided sequence for free energy calculation.\n",
      "714/714 (100.0%)\r"
     ]
    }
   ],
   "source": [
    "plain_id, egfp_res = estimate_energy_input(egfp_seq.upper(), 36, (0,100), proc=7)"
   ]
  },
  {
   "cell_type": "markdown",
   "metadata": {},
   "source": [
    "Score and format the output. As input for `prepare_output()` function provide a list of tuples, containing sequence id and result from previous function call."
   ]
  },
  {
   "cell_type": "code",
   "execution_count": 18,
   "metadata": {
    "collapsed": true
   },
   "outputs": [],
   "source": [
    "egfp_out = prepare_output([('eGFP', egfp_res)], n_store=0, write=False)"
   ]
  },
  {
   "cell_type": "markdown",
   "metadata": {},
   "source": [
    "Analyze the output."
   ]
  },
  {
   "cell_type": "code",
   "execution_count": 19,
   "metadata": {},
   "outputs": [
    {
     "data": {
      "text/html": [
       "<div>\n",
       "<style scoped>\n",
       "    .dataframe tbody tr th:only-of-type {\n",
       "        vertical-align: middle;\n",
       "    }\n",
       "\n",
       "    .dataframe tbody tr th {\n",
       "        vertical-align: top;\n",
       "    }\n",
       "\n",
       "    .dataframe thead th {\n",
       "        text-align: right;\n",
       "    }\n",
       "</style>\n",
       "<table border=\"1\" class=\"dataframe\">\n",
       "  <thead>\n",
       "    <tr style=\"text-align: right;\">\n",
       "      <th></th>\n",
       "      <th>seq</th>\n",
       "      <th>GC</th>\n",
       "      <th>ent</th>\n",
       "      <th>dG_AA</th>\n",
       "      <th>G_A</th>\n",
       "      <th>bitscore</th>\n",
       "      <th>nident</th>\n",
       "      <th>chr</th>\n",
       "      <th>start</th>\n",
       "      <th>end</th>\n",
       "      <th>score</th>\n",
       "    </tr>\n",
       "  </thead>\n",
       "  <tbody>\n",
       "    <tr>\n",
       "      <th>355</th>\n",
       "      <td>AUGCGGUUCACCAGGGUGUCGCCCUCGAACUUCACC</td>\n",
       "      <td>61.11</td>\n",
       "      <td>1.411554944444444444444444444</td>\n",
       "      <td>-10.52</td>\n",
       "      <td>-11.306073</td>\n",
       "      <td>28.3</td>\n",
       "      <td>18</td>\n",
       "      <td>.</td>\n",
       "      <td>355</td>\n",
       "      <td>391</td>\n",
       "      <td>166.8</td>\n",
       "    </tr>\n",
       "    <tr>\n",
       "      <th>170</th>\n",
       "      <td>CACGAGGGUGGGCCAGGGCACGGGCAGCUUGCCGGU</td>\n",
       "      <td>75.00</td>\n",
       "      <td>1.345367777777777777777777778</td>\n",
       "      <td>-9.36</td>\n",
       "      <td>-10.663815</td>\n",
       "      <td>28.3</td>\n",
       "      <td>18</td>\n",
       "      <td>.</td>\n",
       "      <td>170</td>\n",
       "      <td>206</td>\n",
       "      <td>188.8</td>\n",
       "    </tr>\n",
       "    <tr>\n",
       "      <th>169</th>\n",
       "      <td>ACGAGGGUGGGCCAGGGCACGGGCAGCUUGCCGGUG</td>\n",
       "      <td>75.00</td>\n",
       "      <td>1.3156325</td>\n",
       "      <td>-7.69</td>\n",
       "      <td>-10.650033</td>\n",
       "      <td>28.3</td>\n",
       "      <td>18</td>\n",
       "      <td>.</td>\n",
       "      <td>169</td>\n",
       "      <td>205</td>\n",
       "      <td>199.8</td>\n",
       "    </tr>\n",
       "    <tr>\n",
       "      <th>168</th>\n",
       "      <td>CGAGGGUGGGCCAGGGCACGGGCAGCUUGCCGGUGG</td>\n",
       "      <td>77.78</td>\n",
       "      <td>1.262398333333333333333333333</td>\n",
       "      <td>-7.76</td>\n",
       "      <td>-11.742355</td>\n",
       "      <td>28.3</td>\n",
       "      <td>17</td>\n",
       "      <td>.</td>\n",
       "      <td>168</td>\n",
       "      <td>204</td>\n",
       "      <td>224.8</td>\n",
       "    </tr>\n",
       "    <tr>\n",
       "      <th>649</th>\n",
       "      <td>AGCAGGACCAUGUGAUCGCGCUUCUCGUUGGGGUCU</td>\n",
       "      <td>58.33</td>\n",
       "      <td>1.261723222222222222222222222</td>\n",
       "      <td>-9.56</td>\n",
       "      <td>-7.146165</td>\n",
       "      <td>28.3</td>\n",
       "      <td>18</td>\n",
       "      <td>.</td>\n",
       "      <td>649</td>\n",
       "      <td>685</td>\n",
       "      <td>225.8</td>\n",
       "    </tr>\n",
       "  </tbody>\n",
       "</table>\n",
       "</div>"
      ],
      "text/plain": [
       "                                      seq     GC  \\\n",
       "355  AUGCGGUUCACCAGGGUGUCGCCCUCGAACUUCACC  61.11   \n",
       "170  CACGAGGGUGGGCCAGGGCACGGGCAGCUUGCCGGU  75.00   \n",
       "169  ACGAGGGUGGGCCAGGGCACGGGCAGCUUGCCGGUG  75.00   \n",
       "168  CGAGGGUGGGCCAGGGCACGGGCAGCUUGCCGGUGG  77.78   \n",
       "649  AGCAGGACCAUGUGAUCGCGCUUCUCGUUGGGGUCU  58.33   \n",
       "\n",
       "                               ent   dG_AA         G_A  bitscore  nident chr  \\\n",
       "355  1.411554944444444444444444444  -10.52  -11.306073      28.3      18   .   \n",
       "170  1.345367777777777777777777778   -9.36  -10.663815      28.3      18   .   \n",
       "169                      1.3156325   -7.69  -10.650033      28.3      18   .   \n",
       "168  1.262398333333333333333333333   -7.76  -11.742355      28.3      17   .   \n",
       "649  1.261723222222222222222222222   -9.56   -7.146165      28.3      18   .   \n",
       "\n",
       "     start  end  score  \n",
       "355    355  391  166.8  \n",
       "170    170  206  188.8  \n",
       "169    169  205  199.8  \n",
       "168    168  204  224.8  \n",
       "649    649  685  225.8  "
      ]
     },
     "execution_count": 19,
     "metadata": {},
     "output_type": "execute_result"
    }
   ],
   "source": [
    "egfp_out['eGFP'].head()"
   ]
  },
  {
   "cell_type": "markdown",
   "metadata": {},
   "source": [
    "#### Sequence fragment of endogenous transcript"
   ]
  },
  {
   "cell_type": "markdown",
   "metadata": {},
   "source": [
    "Input sequence should be provided in the FASTA format, containing parent **Ensembl Transcript ID** as the first element of the header (right after the '>' sign)."
   ]
  },
  {
   "cell_type": "code",
   "execution_count": 20,
   "metadata": {
    "collapsed": true
   },
   "outputs": [],
   "source": [
    "cpeb1b_2nd_exon_part = '>ENSDART00000098904 exon 2; partial sequence\\nGCAGACGCCTTCTGCAGAATGAACACCATGCTGGGCAACTCACTGGATCTGAGTGGTGTGTGCACAACTCCCACTGCCAAGTGCAAGCGAGACCCTTTTA'"
   ]
  },
  {
   "cell_type": "markdown",
   "metadata": {},
   "source": [
    "As in the example above use the `estimate_energy_input()` function to perform the calculations. This time provide also the **annotation database** and **fasta index** for the database lookup of the parent transcript sequence.\n",
    "\n",
    "The whole parent transcript sequence will be used for free energy calculations.\n",
    "\n",
    "The BLAST database search will exclude all of the transcript sequences of the parent gene."
   ]
  },
  {
   "cell_type": "code",
   "execution_count": 21,
   "metadata": {},
   "outputs": [
    {
     "name": "stdout",
     "output_type": "stream",
     "text": [
      "Valid sequences: 64 / 65 (GC_low = 0, GC_high = 1, sm = 0)\n",
      "Target: ENSDART00000098904, source: ensembl_havana, length: 2912\n",
      "64/64 (100.0%)\r"
     ]
    }
   ],
   "source": [
    "c1_id, cpeb1b_part_res = estimate_energy_input(cpeb1b_2nd_exon_part, 36, (40,60), database=db, fasta_index=fa_db, proc=7)"
   ]
  },
  {
   "cell_type": "markdown",
   "metadata": {},
   "source": [
    "Score and format the output."
   ]
  },
  {
   "cell_type": "code",
   "execution_count": 22,
   "metadata": {
    "collapsed": true
   },
   "outputs": [],
   "source": [
    "cpeb1b_part_out = prepare_output([('cpeb1b', cpeb1b_part_res)], n_store=0, write=False)"
   ]
  },
  {
   "cell_type": "markdown",
   "metadata": {},
   "source": [
    "Analyze the output."
   ]
  },
  {
   "cell_type": "code",
   "execution_count": 23,
   "metadata": {},
   "outputs": [
    {
     "data": {
      "text/html": [
       "<div>\n",
       "<style scoped>\n",
       "    .dataframe tbody tr th:only-of-type {\n",
       "        vertical-align: middle;\n",
       "    }\n",
       "\n",
       "    .dataframe tbody tr th {\n",
       "        vertical-align: top;\n",
       "    }\n",
       "\n",
       "    .dataframe thead th {\n",
       "        text-align: right;\n",
       "    }\n",
       "</style>\n",
       "<table border=\"1\" class=\"dataframe\">\n",
       "  <thead>\n",
       "    <tr style=\"text-align: right;\">\n",
       "      <th></th>\n",
       "      <th>seq</th>\n",
       "      <th>GC</th>\n",
       "      <th>ent</th>\n",
       "      <th>dG_AA</th>\n",
       "      <th>G_A</th>\n",
       "      <th>bitscore</th>\n",
       "      <th>nident</th>\n",
       "      <th>chr</th>\n",
       "      <th>start</th>\n",
       "      <th>end</th>\n",
       "      <th>score</th>\n",
       "    </tr>\n",
       "  </thead>\n",
       "  <tbody>\n",
       "    <tr>\n",
       "      <th>20</th>\n",
       "      <td>CCACUCAGAUCCAGUGAGUUGCCCAGCAUGGUGUUC</td>\n",
       "      <td>55.56</td>\n",
       "      <td>2.557636111111111111111111111</td>\n",
       "      <td>-6.56</td>\n",
       "      <td>-6.513974</td>\n",
       "      <td>30.1</td>\n",
       "      <td>16</td>\n",
       "      <td>.</td>\n",
       "      <td>20</td>\n",
       "      <td>56</td>\n",
       "      <td>22.33333333333333333333333333</td>\n",
       "    </tr>\n",
       "    <tr>\n",
       "      <th>22</th>\n",
       "      <td>CACCACUCAGAUCCAGUGAGUUGCCCAGCAUGGUGU</td>\n",
       "      <td>55.56</td>\n",
       "      <td>2.551166666666666666666666667</td>\n",
       "      <td>-4.92</td>\n",
       "      <td>-8.147557</td>\n",
       "      <td>30.1</td>\n",
       "      <td>16</td>\n",
       "      <td>.</td>\n",
       "      <td>22</td>\n",
       "      <td>58</td>\n",
       "      <td>24.33333333333333333333333333</td>\n",
       "    </tr>\n",
       "    <tr>\n",
       "      <th>21</th>\n",
       "      <td>ACCACUCAGAUCCAGUGAGUUGCCCAGCAUGGUGUU</td>\n",
       "      <td>52.78</td>\n",
       "      <td>2.548902777777777777777777778</td>\n",
       "      <td>-6.27</td>\n",
       "      <td>-6.658569</td>\n",
       "      <td>30.1</td>\n",
       "      <td>16</td>\n",
       "      <td>.</td>\n",
       "      <td>21</td>\n",
       "      <td>57</td>\n",
       "      <td>25.33333333333333333333333333</td>\n",
       "    </tr>\n",
       "    <tr>\n",
       "      <th>19</th>\n",
       "      <td>CACUCAGAUCCAGUGAGUUGCCCAGCAUGGUGUUCA</td>\n",
       "      <td>52.78</td>\n",
       "      <td>2.534936111111111111111111111</td>\n",
       "      <td>-6.72</td>\n",
       "      <td>-6.496824</td>\n",
       "      <td>30.1</td>\n",
       "      <td>16</td>\n",
       "      <td>.</td>\n",
       "      <td>19</td>\n",
       "      <td>55</td>\n",
       "      <td>27.33333333333333333333333333</td>\n",
       "    </tr>\n",
       "    <tr>\n",
       "      <th>18</th>\n",
       "      <td>ACUCAGAUCCAGUGAGUUGCCCAGCAUGGUGUUCAU</td>\n",
       "      <td>50.00</td>\n",
       "      <td>2.496919444444444444444444444</td>\n",
       "      <td>-6.83</td>\n",
       "      <td>-6.120022</td>\n",
       "      <td>30.1</td>\n",
       "      <td>16</td>\n",
       "      <td>.</td>\n",
       "      <td>18</td>\n",
       "      <td>54</td>\n",
       "      <td>32.33333333333333333333333333</td>\n",
       "    </tr>\n",
       "  </tbody>\n",
       "</table>\n",
       "</div>"
      ],
      "text/plain": [
       "                                     seq     GC  \\\n",
       "20  CCACUCAGAUCCAGUGAGUUGCCCAGCAUGGUGUUC  55.56   \n",
       "22  CACCACUCAGAUCCAGUGAGUUGCCCAGCAUGGUGU  55.56   \n",
       "21  ACCACUCAGAUCCAGUGAGUUGCCCAGCAUGGUGUU  52.78   \n",
       "19  CACUCAGAUCCAGUGAGUUGCCCAGCAUGGUGUUCA  52.78   \n",
       "18  ACUCAGAUCCAGUGAGUUGCCCAGCAUGGUGUUCAU  50.00   \n",
       "\n",
       "                              ent  dG_AA        G_A  bitscore  nident chr  \\\n",
       "20  2.557636111111111111111111111  -6.56  -6.513974      30.1      16   .   \n",
       "22  2.551166666666666666666666667  -4.92  -8.147557      30.1      16   .   \n",
       "21  2.548902777777777777777777778  -6.27  -6.658569      30.1      16   .   \n",
       "19  2.534936111111111111111111111  -6.72  -6.496824      30.1      16   .   \n",
       "18  2.496919444444444444444444444  -6.83  -6.120022      30.1      16   .   \n",
       "\n",
       "    start  end                          score  \n",
       "20     20   56  22.33333333333333333333333333  \n",
       "22     22   58  24.33333333333333333333333333  \n",
       "21     21   57  25.33333333333333333333333333  \n",
       "19     19   55  27.33333333333333333333333333  \n",
       "18     18   54  32.33333333333333333333333333  "
      ]
     },
     "execution_count": 23,
     "metadata": {},
     "output_type": "execute_result"
    }
   ],
   "source": [
    "cpeb1b_part_out['cpeb1b'].head()"
   ]
  },
  {
   "cell_type": "markdown",
   "metadata": {},
   "source": [
    "---"
   ]
  },
  {
   "cell_type": "markdown",
   "metadata": {},
   "source": [
    "### Omitting certain *CDS containing exons* from processing"
   ]
  },
  {
   "cell_type": "markdown",
   "metadata": {},
   "source": [
    "You can omit **CDS containing exons** from processing by passing the exon numbers as a dictionary in the `exclude_dict` argument to the `gene2csm` function, with Gene ID as the key. Example follows:"
   ]
  },
  {
   "cell_type": "code",
   "execution_count": 24,
   "metadata": {
    "collapsed": true
   },
   "outputs": [],
   "source": [
    "# list excluded exons in a dictionary\n",
    "excluded_exons = {'ENSDARG00000014373': [1]}\n",
    "\n",
    "# length of the designed oligonucleotide\n",
    "crRNA_len = 36\n",
    "# limits of the %GC content\n",
    "GC_limit = (40,60)\n",
    "# number of processors to use\n",
    "n_threads = 7"
   ]
  },
  {
   "cell_type": "markdown",
   "metadata": {},
   "source": [
    "I this example the first CDS containing exon will be excluded from the processing (`excluded_exons = {'ENSDARG00000014373': [1]}`). It is the second exon of this gene, since the first exon does not contain any coding sequence.\n",
    "\n",
    "We add additional `file_prefx` argument to change the names of the files stored not to overwrite the previous results."
   ]
  },
  {
   "cell_type": "code",
   "execution_count": 25,
   "metadata": {},
   "outputs": [
    {
     "name": "stdout",
     "output_type": "stream",
     "text": [
      "\n",
      "---\n",
      "\n",
      "ddx4\n",
      "ENSDARG00000014373 loci length: 21926.\n",
      "Maximal genomic sequence coverage by CDS: 7.\n"
     ]
    },
    {
     "data": {
      "image/png": "[encoded data removed]",
      "text/plain": [
       "<matplotlib.figure.Figure at 0x7fa6cd95b9e8>"
      ]
     },
     "metadata": {},
     "output_type": "display_data"
    },
    {
     "name": "stdout",
     "output_type": "stream",
     "text": [
      "30 CDS coverage intervals (coverage, count): [(7, 23), (1, 2), (2, 1), (6, 1), (3, 1), (4, 1), (5, 1)].\n",
      "Omitting user submitted *CDS containing exons*: 1..\n",
      "Subtracting variation from dbSNP_150.\n",
      "Processing 1638 nucleotides in 23 segments.\n",
      "Valid sequences: 612 / 833 (GC_low = 156, GC_high = 51, sm = 14)\n",
      "No transcript Ensemble ID specified.\n",
      "Picking the longest, preferably HAVANA annotated transcript for free energy calculations.\n",
      "Target: ENSDART00000149334, source: havana, length: 2856\n",
      "612/612 (100.0%)\n",
      "Writing file no1_ENSDARG00000014373.result.csv.\n",
      "\n",
      "Done.\n"
     ]
    }
   ],
   "source": [
    "ddx4_res = gene2csm(db,\n",
    "                    fa_db,\n",
    "                    gvf_fn,\n",
    "                    ['ENSDARG00000014373'],\n",
    "                    crRNA_len,\n",
    "                    GC_limit,\n",
    "                    n_threads,\n",
    "                    coverage_limit='max',\n",
    "                    exclude_dict=excluded_exons,\n",
    "                    file_prefix='no1_')"
   ]
  },
  {
   "cell_type": "markdown",
   "metadata": {},
   "source": [
    "Score, format and analyze the output, as before."
   ]
  },
  {
   "cell_type": "code",
   "execution_count": 26,
   "metadata": {},
   "outputs": [
    {
     "name": "stdout",
     "output_type": "stream",
     "text": [
      "Writing file no1_ddx4.csm.xlsx.\n"
     ]
    }
   ],
   "source": [
    "ddx4_out = prepare_output(ddx4_res, n_store=50, write=True, file_prefix='no1_')"
   ]
  },
  {
   "cell_type": "code",
   "execution_count": 27,
   "metadata": {
    "scrolled": true
   },
   "outputs": [
    {
     "data": {
      "text/html": [
       "<div>\n",
       "<style scoped>\n",
       "    .dataframe tbody tr th:only-of-type {\n",
       "        vertical-align: middle;\n",
       "    }\n",
       "\n",
       "    .dataframe tbody tr th {\n",
       "        vertical-align: top;\n",
       "    }\n",
       "\n",
       "    .dataframe thead th {\n",
       "        text-align: right;\n",
       "    }\n",
       "</style>\n",
       "<table border=\"1\" class=\"dataframe\">\n",
       "  <thead>\n",
       "    <tr style=\"text-align: right;\">\n",
       "      <th></th>\n",
       "      <th>seq</th>\n",
       "      <th>GC</th>\n",
       "      <th>ent</th>\n",
       "      <th>dG_AA</th>\n",
       "      <th>G_A</th>\n",
       "      <th>bitscore</th>\n",
       "      <th>nident</th>\n",
       "      <th>chr</th>\n",
       "      <th>start</th>\n",
       "      <th>end</th>\n",
       "      <th>score</th>\n",
       "    </tr>\n",
       "  </thead>\n",
       "  <tbody>\n",
       "    <tr>\n",
       "      <th>190</th>\n",
       "      <td>UCUCACUGAACUUGCUGGCUGCCACACCAUCAGUCA</td>\n",
       "      <td>52.78</td>\n",
       "      <td>1.709314166666666666666666667</td>\n",
       "      <td>-12.28</td>\n",
       "      <td>-6.405086</td>\n",
       "      <td>30.1</td>\n",
       "      <td>16</td>\n",
       "      <td>10</td>\n",
       "      <td>6939268</td>\n",
       "      <td>6939304</td>\n",
       "      <td>103.4285714285714285714285714</td>\n",
       "    </tr>\n",
       "    <tr>\n",
       "      <th>189</th>\n",
       "      <td>CUCACUGAACUUGCUGGCUGCCACACCAUCAGUCAU</td>\n",
       "      <td>52.78</td>\n",
       "      <td>1.706084166666666666666666667</td>\n",
       "      <td>-12.19</td>\n",
       "      <td>-6.453289</td>\n",
       "      <td>30.1</td>\n",
       "      <td>16</td>\n",
       "      <td>10</td>\n",
       "      <td>6939267</td>\n",
       "      <td>6939303</td>\n",
       "      <td>105.4285714285714285714285714</td>\n",
       "    </tr>\n",
       "    <tr>\n",
       "      <th>188</th>\n",
       "      <td>UCACUGAACUUGCUGGCUGCCACACCAUCAGUCAUA</td>\n",
       "      <td>50.00</td>\n",
       "      <td>1.685921666666666666666666667</td>\n",
       "      <td>-12.19</td>\n",
       "      <td>-6.455337</td>\n",
       "      <td>30.1</td>\n",
       "      <td>16</td>\n",
       "      <td>10</td>\n",
       "      <td>6939266</td>\n",
       "      <td>6939302</td>\n",
       "      <td>110.4285714285714285714285714</td>\n",
       "    </tr>\n",
       "    <tr>\n",
       "      <th>187</th>\n",
       "      <td>CACUGAACUUGCUGGCUGCCACACCAUCAGUCAUAA</td>\n",
       "      <td>50.00</td>\n",
       "      <td>1.679088611111111111111111111</td>\n",
       "      <td>-12.17</td>\n",
       "      <td>-6.463978</td>\n",
       "      <td>30.1</td>\n",
       "      <td>16</td>\n",
       "      <td>10</td>\n",
       "      <td>6939265</td>\n",
       "      <td>6939301</td>\n",
       "      <td>115.4285714285714285714285714</td>\n",
       "    </tr>\n",
       "    <tr>\n",
       "      <th>211</th>\n",
       "      <td>UUAUGGCCUCAGGCUCCUGUAUCUCACUGAACUUGC</td>\n",
       "      <td>50.00</td>\n",
       "      <td>1.639284805555555555555555556</td>\n",
       "      <td>-8.29</td>\n",
       "      <td>-4.165267</td>\n",
       "      <td>30.1</td>\n",
       "      <td>16</td>\n",
       "      <td>10</td>\n",
       "      <td>6939289</td>\n",
       "      <td>6939325</td>\n",
       "      <td>121.4285714285714285714285714</td>\n",
       "    </tr>\n",
       "  </tbody>\n",
       "</table>\n",
       "</div>"
      ],
      "text/plain": [
       "                                      seq     GC  \\\n",
       "190  UCUCACUGAACUUGCUGGCUGCCACACCAUCAGUCA  52.78   \n",
       "189  CUCACUGAACUUGCUGGCUGCCACACCAUCAGUCAU  52.78   \n",
       "188  UCACUGAACUUGCUGGCUGCCACACCAUCAGUCAUA  50.00   \n",
       "187  CACUGAACUUGCUGGCUGCCACACCAUCAGUCAUAA  50.00   \n",
       "211  UUAUGGCCUCAGGCUCCUGUAUCUCACUGAACUUGC  50.00   \n",
       "\n",
       "                               ent   dG_AA        G_A  bitscore  nident chr  \\\n",
       "190  1.709314166666666666666666667  -12.28  -6.405086      30.1      16  10   \n",
       "189  1.706084166666666666666666667  -12.19  -6.453289      30.1      16  10   \n",
       "188  1.685921666666666666666666667  -12.19  -6.455337      30.1      16  10   \n",
       "187  1.679088611111111111111111111  -12.17  -6.463978      30.1      16  10   \n",
       "211  1.639284805555555555555555556   -8.29  -4.165267      30.1      16  10   \n",
       "\n",
       "       start      end                          score  \n",
       "190  6939268  6939304  103.4285714285714285714285714  \n",
       "189  6939267  6939303  105.4285714285714285714285714  \n",
       "188  6939266  6939302  110.4285714285714285714285714  \n",
       "187  6939265  6939301  115.4285714285714285714285714  \n",
       "211  6939289  6939325  121.4285714285714285714285714  "
      ]
     },
     "execution_count": 27,
     "metadata": {},
     "output_type": "execute_result"
    }
   ],
   "source": [
    "ddx4_out['ddx4'].head()"
   ]
  },
  {
   "cell_type": "markdown",
   "metadata": {},
   "source": [
    "You can check, that because the first exon with the CDS of this gene is too short for crRNA design with those parameters, the resulting tables did not change:"
   ]
  },
  {
   "cell_type": "code",
   "execution_count": 28,
   "metadata": {},
   "outputs": [
    {
     "data": {
      "text/plain": [
       "True"
      ]
     },
     "execution_count": 28,
     "metadata": {},
     "output_type": "execute_result"
    }
   ],
   "source": [
    "ddx4_out['ddx4'].equals(formatted['ddx4'].head(50))"
   ]
  },
  {
   "cell_type": "markdown",
   "metadata": {},
   "source": [
    "---"
   ]
  },
  {
   "cell_type": "markdown",
   "metadata": {},
   "source": [
    "`System information:`"
   ]
  },
  {
   "cell_type": "code",
   "execution_count": 29,
   "metadata": {},
   "outputs": [
    {
     "name": "stdout",
     "output_type": "stream",
     "text": [
      "bedtools v2.26.0\n",
      "RNAfold 2.4.3\n",
      "blastn: 2.7.1+\n",
      " Package: blast 2.7.1, build Oct 18 2017 19:57:24\n",
      "4.4.0\n"
     ]
    }
   ],
   "source": [
    "%%bash\n",
    "bedtools --version\n",
    "RNAfold --version\n",
    "blastn -version\n",
    "jupyter --version"
   ]
  }
 ],
 "metadata": {
  "kernelspec": {
   "display_name": "Csm-gf6UZX-p",
   "language": "python",
   "name": "csm-gf6uzx-p"
  },
  "language_info": {
   "codemirror_mode": {
    "name": "ipython",
    "version": 3
   },
   "file_extension": ".py",
   "mimetype": "text/x-python",
   "name": "python",
   "nbconvert_exporter": "python",
   "pygments_lexer": "ipython3",
   "version": "3.6.3"
  }
 },
 "nbformat": 4,
 "nbformat_minor": 2
}
