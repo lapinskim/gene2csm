{
 "cells": [
  {
   "cell_type": "markdown",
   "metadata": {},
   "source": [
    "# gene2csm.py"
   ]
  },
  {
   "cell_type": "markdown",
   "metadata": {},
   "source": [
    "## Example usage"
   ]
  },
  {
   "cell_type": "markdown",
   "metadata": {},
   "source": [
    "Use magic for inline interactive plotting."
   ]
  },
  {
   "cell_type": "code",
   "execution_count": 1,
   "metadata": {
    "collapsed": true,
    "scrolled": false
   },
   "outputs": [],
   "source": [
    "%matplotlib inline"
   ]
  },
  {
   "cell_type": "markdown",
   "metadata": {},
   "source": [
    "Do the imports."
   ]
  },
  {
   "cell_type": "code",
   "execution_count": 2,
   "metadata": {
    "collapsed": true,
    "scrolled": true
   },
   "outputs": [],
   "source": [
    "import gffutils\n",
    "import os\n",
    "import matplotlib.pyplot as plt\n",
    "from Bio import SeqIO\n",
    "import pandas as pd\n",
    "\n",
    "# import gene2csm modules\n",
    "from gene2csm import *\n",
    "from gene2csm_out import prepare_output"
   ]
  },
  {
   "cell_type": "markdown",
   "metadata": {},
   "source": [
    "---"
   ]
  },
  {
   "cell_type": "markdown",
   "metadata": {},
   "source": [
    "### Create the required database objects"
   ]
  },
  {
   "cell_type": "markdown",
   "metadata": {},
   "source": [
    "Create or load the GFF annotation database"
   ]
  },
  {
   "cell_type": "code",
   "execution_count": 3,
   "metadata": {
    "collapsed": true,
    "scrolled": false
   },
   "outputs": [],
   "source": [
    "db_file = 'danRer.GRCz10.90.db'\n",
    "if not os.path.exists(db_file):\n",
    "    db = gffutils.create_db(\"Danio_rerio.GRCz10.90.gtf\",\n",
    "                            dbfn=\"danRer.GRCz10.90.db\",\n",
    "                            id_spec={'gene': 'gene_id', 'transcript': \"transcript_id\"},\n",
    "                            disable_infer_genes=True,\n",
    "                            disable_infer_transcripts=True,\n",
    "                            force=False)\n",
    "else:\n",
    "    db = gffutils.FeatureDB(db_file)"
   ]
  },
  {
   "cell_type": "markdown",
   "metadata": {},
   "source": [
    "Create an indexed fasta database for faster access with SeqIO."
   ]
  },
  {
   "cell_type": "code",
   "execution_count": 4,
   "metadata": {
    "collapsed": true
   },
   "outputs": [],
   "source": [
    "fa_db = SeqIO.index_db('danRer.GRCz10.dna_sm.toplevel.idx', 'Danio_rerio.GRCz10.dna_sm.toplevel.fa', 'fasta')"
   ]
  },
  {
   "cell_type": "markdown",
   "metadata": {},
   "source": [
    "Load the variation information."
   ]
  },
  {
   "cell_type": "code",
   "execution_count": 5,
   "metadata": {
    "collapsed": true
   },
   "outputs": [],
   "source": [
    "gvf_fn = ('danio_rerio.gvf.gz')"
   ]
  },
  {
   "cell_type": "markdown",
   "metadata": {},
   "source": [
    "---"
   ]
  },
  {
   "cell_type": "markdown",
   "metadata": {},
   "source": [
    "### Basic example of working with provided functions"
   ]
  },
  {
   "cell_type": "markdown",
   "metadata": {},
   "source": [
    "Enter the Ensembl Gene ID"
   ]
  },
  {
   "cell_type": "code",
   "execution_count": 6,
   "metadata": {
    "collapsed": true,
    "scrolled": false
   },
   "outputs": [],
   "source": [
    "gene = db['ENSDARG00000008454']"
   ]
  },
  {
   "cell_type": "markdown",
   "metadata": {},
   "source": [
    "Create genomic sequence coverage by **CDS** (without STOP codon)."
   ]
  },
  {
   "cell_type": "code",
   "execution_count": 7,
   "metadata": {
    "scrolled": true
   },
   "outputs": [
    {
     "name": "stdout",
     "output_type": "stream",
     "text": [
      "ENSDARG00000008454 loci length: 10529.\n",
      "Maximal genomic sequence coverage by CDS: 3.\n"
     ]
    }
   ],
   "source": [
    "gene_cov = get_cov(db, gene)"
   ]
  },
  {
   "cell_type": "markdown",
   "metadata": {},
   "source": [
    "For ploting change start coordinates to local and reverse the coverage if needed"
   ]
  },
  {
   "cell_type": "code",
   "execution_count": 8,
   "metadata": {
    "collapsed": true,
    "scrolled": false
   },
   "outputs": [],
   "source": [
    "if gene.strand == '+':\n",
    "    plot_cov = gene_cov\n",
    "else:\n",
    "    plot_cov = gene_cov[::-1]"
   ]
  },
  {
   "cell_type": "markdown",
   "metadata": {},
   "source": [
    "Plotting"
   ]
  },
  {
   "cell_type": "code",
   "execution_count": 9,
   "metadata": {
    "scrolled": false
   },
   "outputs": [
    {
     "data": {
      "image/png": "[encoded data removed]",
      "text/plain": [
       "<matplotlib.figure.Figure at 0x7fab3a7bd9e8>"
      ]
     },
     "metadata": {},
     "output_type": "display_data"
    }
   ],
   "source": [
    "plt.plot(plot_cov, 'blue')\n",
    "plt.show()"
   ]
  },
  {
   "cell_type": "markdown",
   "metadata": {},
   "source": [
    "Get the genomic intervals for sequene retrieval. Subtract the varable sequences comming from dbSNP."
   ]
  },
  {
   "cell_type": "code",
   "execution_count": 10,
   "metadata": {
    "scrolled": true
   },
   "outputs": [
    {
     "name": "stdout",
     "output_type": "stream",
     "text": [
      "17 CDS coverage intervals (coverage, count): [(2, 9), (3, 5), (1, 3)].\n",
      "Subtracting variation from dbSNP_150.\n"
     ]
    }
   ],
   "source": [
    "gen_int = sub_var(get_int(gene,gene_cov), gvf_fn)"
   ]
  },
  {
   "cell_type": "markdown",
   "metadata": {},
   "source": [
    "---"
   ]
  },
  {
   "cell_type": "markdown",
   "metadata": {},
   "source": [
    "### Automated design for multiple transcript targets"
   ]
  },
  {
   "cell_type": "markdown",
   "metadata": {},
   "source": [
    "Define search parameters."
   ]
  },
  {
   "cell_type": "code",
   "execution_count": null,
   "metadata": {
    "collapsed": true,
    "scrolled": false
   },
   "outputs": [],
   "source": [
    "# length of the designed oligo\n",
    "crRNA_len = 36\n",
    "# limits of the %GC content\n",
    "GC_limit = (40,60)\n",
    "# number of processors to use\n",
    "n_threads = 7"
   ]
  },
  {
   "cell_type": "markdown",
   "metadata": {},
   "source": [
    "Provide the list of Ensembl Gene IDs to be used as design targets."
   ]
  },
  {
   "cell_type": "code",
   "execution_count": null,
   "metadata": {
    "collapsed": true
   },
   "outputs": [],
   "source": [
    "targets = ['ENSDARG00000008454', \n",
    "           'ENSDARG00000012389',\n",
    "           'ENSDARG00000101576',\n",
    "           'ENSDARG00000014373',\n",
    "           'ENSDARG00000035095',\n",
    "           'ENSDARG00000017821']"
   ]
  },
  {
   "cell_type": "markdown",
   "metadata": {},
   "source": [
    "Use the main function to conduct all the calculations. Raw output will also be stored in the CSV file. "
   ]
  },
  {
   "cell_type": "code",
   "execution_count": null,
   "metadata": {
    "scrolled": true
   },
   "outputs": [],
   "source": [
    "out = gene2csm(db, fa_db, gvf_fn, targets, crRNA_len, GC_limit, n_threads, coverage_limit='max')"
   ]
  },
  {
   "cell_type": "markdown",
   "metadata": {},
   "source": [
    "Score the output, format the tables and write them to the XLSX files (if `write=True`)."
   ]
  },
  {
   "cell_type": "code",
   "execution_count": null,
   "metadata": {
    "collapsed": true,
    "scrolled": true
   },
   "outputs": [],
   "source": [
    "formated = prepare_output(out, n_store=0, write=False)"
   ]
  },
  {
   "cell_type": "markdown",
   "metadata": {},
   "source": [
    "Analyze the output for each target. For convenience the result dictionary contains the Gene Names as keys."
   ]
  },
  {
   "cell_type": "code",
   "execution_count": null,
   "metadata": {
    "scrolled": true
   },
   "outputs": [],
   "source": [
    "formated['ta'].head()"
   ]
  },
  {
   "cell_type": "markdown",
   "metadata": {
    "collapsed": true
   },
   "source": [
    "---"
   ]
  },
  {
   "cell_type": "markdown",
   "metadata": {},
   "source": [
    "### Working with user provided input"
   ]
  },
  {
   "cell_type": "markdown",
   "metadata": {},
   "source": [
    "#### Sequence not part of an endogenous transcript"
   ]
  },
  {
   "cell_type": "markdown",
   "metadata": {},
   "source": [
    "Input sequence should be provided in PLAIN or FASTA format. \n",
    "\n",
    "You can use lowercase letters to mask unwanted sequence regions."
   ]
  },
  {
   "cell_type": "code",
   "execution_count": null,
   "metadata": {
    "collapsed": true
   },
   "outputs": [],
   "source": [
    "egfp_seq = 'aggatccaccggtcgccaccatggtgagcaagggcgaggagctgttcaccggggtggtgcccatcctggtcgagctggacggcgacgtaaacggccacaagttcagcgtgtccggcgagggcgagggcgatgccacctacggcaagctgaccctgaagttcatctgcaccaccggcaagctgcccgtgccctggcccaccctcgtgaccaccctgacctacggcgtgcagtgcttcagccgctaccccgaccacatgaagcagcacgacttcttcaagtccgccatgcccgaaggctacgtccaggagcgcaccatcttcttcaaggacgacggcaactacaagacccgcgccgaggtgaagttcgagggcgacaccctggtgaaccgcatcgagctgaagggcatcgacttcaaggaggacggcaacatcctggggcacaagctggagtacaactacaacagccacaacgtctatatcatggccgacaagcagaagaacggcatcaaggtgaacttcaagatccgccacaacatcgaggacggcagcgtgcagctcgccgaccactaccagcagaacacccccatcggcgacggccccgtgctgctgcccgacaaccactacctgagcacccagtccgccctgagcaaagaccccaacgagaagcgcgatcacatggtcctgctggagttcgtgaccgccgccgggatcactctcggcatggacgagctgtacaagtaaagcggccgc'"
   ]
  },
  {
   "cell_type": "markdown",
   "metadata": {},
   "source": [
    "Use the `estimate_energy_input()` function for crRNA design, specifying the lenght of the designed oligos and the %GC content limits.\n",
    "\n",
    "The user provided sequence will be used for free energy calculations.\n",
    "\n",
    "Every designed oligo will be subject to a BLAST database search agains all of the species RNA sequences.\n",
    "\n",
    "In the example below we convert the whole sequence to uppercase as the argument for the function call:"
   ]
  },
  {
   "cell_type": "code",
   "execution_count": null,
   "metadata": {},
   "outputs": [],
   "source": [
    "egfp_res = estimate_energy_input(egfp_seq.upper(), 36, (0,100), proc=7)"
   ]
  },
  {
   "cell_type": "markdown",
   "metadata": {},
   "source": [
    "Score and format the output. As input for `prepare_output()` function provide a list of tuples, containing sequence id and result from previous function call."
   ]
  },
  {
   "cell_type": "code",
   "execution_count": null,
   "metadata": {
    "collapsed": true
   },
   "outputs": [],
   "source": [
    "egfp_out = prepare_output([('eGFP', egfp_res)], n_store=0, write=False)"
   ]
  },
  {
   "cell_type": "markdown",
   "metadata": {},
   "source": [
    "Analyze the output."
   ]
  },
  {
   "cell_type": "code",
   "execution_count": null,
   "metadata": {},
   "outputs": [],
   "source": [
    "egfp_out['eGFP'].head()"
   ]
  },
  {
   "cell_type": "markdown",
   "metadata": {},
   "source": [
    "#### Sequence fragment of endogenous transcript"
   ]
  },
  {
   "cell_type": "markdown",
   "metadata": {},
   "source": [
    "Input sequence should be provided in the FASTA format, containing parent **Ensembl Transcript ID** as the first element of the header (right after the '>' sign)."
   ]
  },
  {
   "cell_type": "code",
   "execution_count": null,
   "metadata": {
    "collapsed": true
   },
   "outputs": [],
   "source": [
    "cpeb1b_2nd_exon_part = '>ENSDART00000098904 exon 2; partial sequence\\nGCAGACGCCTTCTGCAGAATGAACACCATGCTGGGCAACTCACTGGATCTGAGTGGTGTGTGCACAACTCCCACTGCCAAGTGCAAGCGAGACCCTTTTA'"
   ]
  },
  {
   "cell_type": "markdown",
   "metadata": {},
   "source": [
    "As in the example above use the `estimate_energy_input()` function to perform the calculations. This time provide also the **annotation database** and **fasta index** for the database lookup of the parent transcript sequence.\n",
    "\n",
    "The whole parent transcript sequence will be used for free energy calculations.\n",
    "\n",
    "The BLAST database search will exclude all of the transcript sequences of the parent gene."
   ]
  },
  {
   "cell_type": "code",
   "execution_count": null,
   "metadata": {},
   "outputs": [],
   "source": [
    "cpeb1b_part_res = estimate_energy_input(cpeb1b_2nd_exon_part, 36, (40,60), database=db, fasta_index=fa_db, proc=7)"
   ]
  },
  {
   "cell_type": "markdown",
   "metadata": {},
   "source": [
    "Score and format the output."
   ]
  },
  {
   "cell_type": "code",
   "execution_count": null,
   "metadata": {
    "collapsed": true
   },
   "outputs": [],
   "source": [
    "cpeb1b_part_out = prepare_output([('cpeb1b', cpeb1b_part_res)], n_store=0, write=False)"
   ]
  },
  {
   "cell_type": "markdown",
   "metadata": {},
   "source": [
    "Analyze the output."
   ]
  },
  {
   "cell_type": "code",
   "execution_count": null,
   "metadata": {},
   "outputs": [],
   "source": [
    "cpeb1b_part_out['cpeb1b'].head()"
   ]
  },
  {
   "cell_type": "markdown",
   "metadata": {},
   "source": [
    "---"
   ]
  },
  {
   "cell_type": "markdown",
   "metadata": {},
   "source": [
    "### Omiting certain *CDS containing exons* from processing"
   ]
  },
  {
   "cell_type": "code",
   "execution_count": 11,
   "metadata": {},
   "outputs": [
    {
     "data": {
      "text/plain": [
       "[['7', 47969001, 47969059, 1],\n",
       " ['7', 47969061, 47969131, 1],\n",
       " ['7', 47969131, 47969136, 2],\n",
       " ['7', 47969136, 47969137, 1],\n",
       " ['7', 47969137, 47969239, 2],\n",
       " ['7', 47969505, 47969586, 2],\n",
       " ['7', 47971254, 47971349, 2],\n",
       " ['7', 47971450, 47971529, 2],\n",
       " ['7', 47971530, 47971538, 2],\n",
       " ['7', 47971539, 47971649, 2],\n",
       " ['7', 47971799, 47971934, 2],\n",
       " ['7', 47971935, 47971936, 2],\n",
       " ['7', 47972177, 47972282, 2],\n",
       " ['7', 47973325, 47973359, 2],\n",
       " ['7', 47973360, 47973439, 2],\n",
       " ['7', 47974221, 47974441, 2],\n",
       " ['7', 47974441, 47974474, 3],\n",
       " ['7', 47976084, 47976150, 3],\n",
       " ['7', 47976151, 47976293, 3],\n",
       " ['7', 47976795, 47976925, 3],\n",
       " ['7', 47976926, 47976987, 3],\n",
       " ['7', 47977695, 47977707, 1],\n",
       " ['7', 47977707, 47977814, 3],\n",
       " ['7', 47977815, 47977834, 3],\n",
       " ['7', 47977835, 47977876, 3],\n",
       " ['7', 47978410, 47978425, 3]]"
      ]
     },
     "execution_count": 11,
     "metadata": {},
     "output_type": "execute_result"
    }
   ],
   "source": [
    "gen_int"
   ]
  },
  {
   "cell_type": "code",
   "execution_count": 12,
   "metadata": {},
   "outputs": [
    {
     "data": {
      "text/plain": [
       "'-'"
      ]
     },
     "execution_count": 12,
     "metadata": {},
     "output_type": "execute_result"
    }
   ],
   "source": [
    "gene.strand"
   ]
  },
  {
   "cell_type": "code",
   "execution_count": 13,
   "metadata": {},
   "outputs": [
    {
     "name": "stdout",
     "output_type": "stream",
     "text": [
      "17 CDS coverage intervals (coverage, count): [(2, 9), (3, 5), (1, 3)].\n"
     ]
    }
   ],
   "source": [
    "gen_int = get_int(gene,gene_cov)"
   ]
  },
  {
   "cell_type": "code",
   "execution_count": 14,
   "metadata": {},
   "outputs": [
    {
     "data": {
      "text/plain": [
       "[['7', 47969001, 47969131, 1],\n",
       " ['7', 47969131, 47969136, 2],\n",
       " ['7', 47969136, 47969137, 1],\n",
       " ['7', 47969137, 47969239, 2],\n",
       " ['7', 47969505, 47969586, 2],\n",
       " ['7', 47971254, 47971349, 2],\n",
       " ['7', 47971450, 47971649, 2],\n",
       " ['7', 47971799, 47971936, 2],\n",
       " ['7', 47972177, 47972282, 2],\n",
       " ['7', 47973325, 47973439, 2],\n",
       " ['7', 47974221, 47974441, 2],\n",
       " ['7', 47974441, 47974474, 3],\n",
       " ['7', 47976084, 47976293, 3],\n",
       " ['7', 47976795, 47976987, 3],\n",
       " ['7', 47977695, 47977707, 1],\n",
       " ['7', 47977707, 47977876, 3],\n",
       " ['7', 47978410, 47978425, 3]]"
      ]
     },
     "execution_count": 14,
     "metadata": {},
     "output_type": "execute_result"
    }
   ],
   "source": [
    "gen_int"
   ]
  },
  {
   "cell_type": "code",
   "execution_count": 15,
   "metadata": {},
   "outputs": [
    {
     "name": "stdout",
     "output_type": "stream",
     "text": [
      "17 CDS coverage intervals (coverage, count): [(2, 9), (3, 5), (1, 3)].\n"
     ]
    }
   ],
   "source": [
    "gen_int2 = sub_user(get_int(gene,gene_cov), gene.strand, None)"
   ]
  },
  {
   "cell_type": "code",
   "execution_count": 16,
   "metadata": {},
   "outputs": [
    {
     "data": {
      "text/plain": [
       "[['7', 47969001, 47969131, 1],\n",
       " ['7', 47969131, 47969136, 2],\n",
       " ['7', 47969136, 47969137, 1],\n",
       " ['7', 47969137, 47969239, 2],\n",
       " ['7', 47969505, 47969586, 2],\n",
       " ['7', 47971254, 47971349, 2],\n",
       " ['7', 47971450, 47971649, 2],\n",
       " ['7', 47971799, 47971936, 2],\n",
       " ['7', 47972177, 47972282, 2],\n",
       " ['7', 47973325, 47973439, 2],\n",
       " ['7', 47974221, 47974441, 2],\n",
       " ['7', 47974441, 47974474, 3],\n",
       " ['7', 47976084, 47976293, 3],\n",
       " ['7', 47976795, 47976987, 3],\n",
       " ['7', 47977695, 47977707, 1],\n",
       " ['7', 47977707, 47977876, 3],\n",
       " ['7', 47978410, 47978425, 3]]"
      ]
     },
     "execution_count": 16,
     "metadata": {},
     "output_type": "execute_result"
    }
   ],
   "source": [
    "gen_int2"
   ]
  },
  {
   "cell_type": "code",
   "execution_count": 17,
   "metadata": {},
   "outputs": [
    {
     "data": {
      "text/plain": [
       "True"
      ]
     },
     "execution_count": 17,
     "metadata": {},
     "output_type": "execute_result"
    }
   ],
   "source": [
    "gen_int == gen_int2"
   ]
  },
  {
   "cell_type": "code",
   "execution_count": null,
   "metadata": {
    "collapsed": true
   },
   "outputs": [],
   "source": [
    "gen_int2 = sub_user(get_int(gene,gene_cov), gene.strand, [,3])"
   ]
  }
 ],
 "metadata": {
  "kernelspec": {
   "display_name": "Csm-gf6UZX-p",
   "language": "python",
   "name": "csm-gf6uzx-p"
  },
  "language_info": {
   "codemirror_mode": {
    "name": "ipython",
    "version": 3
   },
   "file_extension": ".py",
   "mimetype": "text/x-python",
   "name": "python",
   "nbconvert_exporter": "python",
   "pygments_lexer": "ipython3",
   "version": "3.6.3"
  }
 },
 "nbformat": 4,
 "nbformat_minor": 2
}
